{
 "cells": [
  {
   "cell_type": "markdown",
   "metadata": {},
   "source": [
    "# 演算法第一次作业"
   ]
  },
  {
   "cell_type": "markdown",
   "metadata": {},
   "source": [
    "## 定义quick_sort"
   ]
  },
  {
   "cell_type": "markdown",
   "metadata": {},
   "source": [
    "quick_sort的过程是与pivot做对比，比pivot小的放前面，大的放后面。而因为我觉得在list本身里面做顺序转换较为负责且容易弄混，所以我采取的方法是新建三个list，分别放入比pivot小的，比pivot大的及pivot本身。第一轮过后会有三个list:small,big,keylist。以list[23,5,46,34,14,45,34,27,89]为例，第一轮过后，small=[5,14],big=[46,34,45,34,27,89],keylist=[23], 而第二轮是用上方定义好的quick_sort来处理small和big。在这个例子中，small处理时没有变化，而在big中，比46小的则放入small，比46大的留在big，而46放入keylist。以此类推来进行quick_sort的作业。"
   ]
  },
  {
   "cell_type": "code",
   "execution_count": null,
   "metadata": {},
   "outputs": [],
   "source": [
    "def quick_sort(list):\n",
    "    small = []    #作为比pivot小的存放的list\n",
    "    big = []      #作为比pivot大的存放的list\n",
    "    keylist = []  #作为存放pivot的list\n",
    "    if len(list)<= 1:\n",
    "        return list\n",
    "    else:              #开始第一轮的quick_sort\n",
    "        key = list[0]\n",
    "        for i in list:\n",
    "            if i < key:\n",
    "                small.append(i)    #比pivot小的放入small\n",
    "            elif i > key:\n",
    "                big.append(i)      #比pivot大的放入big\n",
    "            else:\n",
    "                keylist.append(i)  #把pivot放入keylist\n",
    "    small = quick_sort(small)   #把small的元素再quick_sort\n",
    "    big = quick_sort(big)       #把big的元素再quick_sort\n",
    "    return small+keylist+big\n"
   ]
  },
  {
   "cell_type": "markdown",
   "metadata": {},
   "source": [
    "## 验证过程（1）"
   ]
  },
  {
   "cell_type": "code",
   "execution_count": 5,
   "metadata": {},
   "outputs": [],
   "source": [
    "mylist = [23,5,46,34,14,45,34,27,89]"
   ]
  },
  {
   "cell_type": "code",
   "execution_count": 7,
   "metadata": {},
   "outputs": [
    {
     "data": {
      "text/plain": [
       "[5, 14, 23, 27, 34, 34, 45, 46, 89]"
      ]
     },
     "execution_count": 7,
     "metadata": {},
     "output_type": "execute_result"
    }
   ],
   "source": [
    "quick_sort(mylist)"
   ]
  },
  {
   "cell_type": "markdown",
   "metadata": {},
   "source": [
    "## 验证过程（2）"
   ]
  },
  {
   "cell_type": "code",
   "execution_count": 8,
   "metadata": {},
   "outputs": [],
   "source": [
    "list_2 = [13,2,55,198,523,54,1,26,34,58,67,15]"
   ]
  },
  {
   "cell_type": "code",
   "execution_count": 9,
   "metadata": {},
   "outputs": [
    {
     "data": {
      "text/plain": [
       "[1, 2, 13, 15, 26, 34, 54, 55, 58, 67, 198, 523]"
      ]
     },
     "execution_count": 9,
     "metadata": {},
     "output_type": "execute_result"
    }
   ],
   "source": [
    "quick_sort(list_2)"
   ]
  },
  {
   "cell_type": "code",
   "execution_count": null,
   "metadata": {},
   "outputs": [],
   "source": []
  }
 ],
 "metadata": {
  "kernelspec": {
   "display_name": "Python 3",
   "language": "python",
   "name": "python3"
  },
  "language_info": {
   "codemirror_mode": {
    "name": "ipython",
    "version": 3
   },
   "file_extension": ".py",
   "mimetype": "text/x-python",
   "name": "python",
   "nbconvert_exporter": "python",
   "pygments_lexer": "ipython3",
   "version": "3.7.3"
  }
 },
 "nbformat": 4,
 "nbformat_minor": 2
}
