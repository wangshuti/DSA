{
 "cells": [
  {
   "cell_type": "code",
   "execution_count": 1,
   "metadata": {},
   "outputs": [],
   "source": [
    "import math  #這個函式庫裡面可以取用\"向上取整\"或\"向下取整\"的函式，等一下會用到"
   ]
  },
  {
   "cell_type": "markdown",
   "metadata": {},
   "source": [
    "# 前置作業的部分"
   ]
  },
  {
   "cell_type": "code",
   "execution_count": 2,
   "metadata": {},
   "outputs": [
    {
     "name": "stdout",
     "output_type": "stream",
     "text": [
      "Please enter a list split by comma(ex: 1,2,3,4,5) : 5,2,6,8,1\n"
     ]
    }
   ],
   "source": [
    "heap = input(\"Please enter a list split by comma(ex: 1,2,3,4,5) : \")  #這邊輸入進來的值會是一個string\n",
    "heap = heap.split(\",\")                                                #split可以對一個string用特定字符做分割,儲存成list"
   ]
  },
  {
   "cell_type": "code",
   "execution_count": 3,
   "metadata": {},
   "outputs": [
    {
     "data": {
      "text/plain": [
       "['5', '2', '6', '8', '1']"
      ]
     },
     "execution_count": 3,
     "metadata": {},
     "output_type": "execute_result"
    }
   ],
   "source": [
    "heap #這邊output出來可以看到是list的形式，但是裡面的數字型別都是string，所以等等要轉換型別(string to int)"
   ]
  },
  {
   "cell_type": "markdown",
   "metadata": {},
   "source": [
    "<img src=\"https://i.imgur.com/aIEPzIC.png\">"
   ]
  },
  {
   "cell_type": "markdown",
   "metadata": {},
   "source": [
    "## 一般來說索引值是都從0開始,但是這邊想要改成從1開始,因為這樣從二元樹的結構上來說,如果父節點的索引值是n,那麼左子節點就會是2n,右節點會是2n+1,非常方便"
   ]
  },
  {
   "cell_type": "markdown",
   "metadata": {},
   "source": [
    "<img src=\"https://i.imgur.com/BLqp23s.png\">"
   ]
  },
  {
   "cell_type": "markdown",
   "metadata": {},
   "source": [
    "## 所以為了要讓索引值從1開始 我們在創建好list之後 於索引值0的位置插入一個\"0\" 因為list的索引值是從0開始"
   ]
  },
  {
   "cell_type": "code",
   "execution_count": 4,
   "metadata": {},
   "outputs": [
    {
     "data": {
      "text/plain": [
       "[0, '5', '2', '6', '8', '1']"
      ]
     },
     "execution_count": 4,
     "metadata": {},
     "output_type": "execute_result"
    }
   ],
   "source": [
    "heap.insert( 0 , 0 )\n",
    "heap"
   ]
  },
  {
   "cell_type": "markdown",
   "metadata": {},
   "source": [
    "## 再來就是要解決 list裡面的數字型別是string的問題"
   ]
  },
  {
   "cell_type": "code",
   "execution_count": 5,
   "metadata": {},
   "outputs": [
    {
     "data": {
      "text/plain": [
       "[0, 5, 2, 6, 8, 1]"
      ]
     },
     "execution_count": 5,
     "metadata": {},
     "output_type": "execute_result"
    }
   ],
   "source": [
    "heap = list(map(int, heap))\n",
    "heap"
   ]
  },
  {
   "cell_type": "markdown",
   "metadata": {},
   "source": [
    "## 可以看到現在裡面都轉成int了"
   ]
  },
  {
   "cell_type": "code",
   "execution_count": 6,
   "metadata": {},
   "outputs": [],
   "source": [
    "n = len( heap ) - 1 #扣掉第一個0之後的list長度"
   ]
  },
  {
   "cell_type": "code",
   "execution_count": 7,
   "metadata": {},
   "outputs": [],
   "source": [
    "##################################################"
   ]
  },
  {
   "cell_type": "markdown",
   "metadata": {},
   "source": [
    "# 函數部分"
   ]
  },
  {
   "cell_type": "markdown",
   "metadata": {},
   "source": [
    "## 首先決定我們的起始點 最好的選擇就是選最後一個有子節點的節點\n",
    "<img src=\"https://i.imgur.com/NXE0Y6t.png\">"
   ]
  },
  {
   "cell_type": "markdown",
   "metadata": {},
   "source": [
    "## 此節點的索引值就是總節點數除以2\n",
    "## 選擇此節點後,假設此節點索引值是i,就與其左子節點2i與右節點2i+1做比較"
   ]
  },
  {
   "cell_type": "code",
   "execution_count": 8,
   "metadata": {},
   "outputs": [],
   "source": [
    "def heapsort( heap , n ) :\n",
    "    i =  math.floor( n / 2)#選擇起始節點→索引值=總節點數/2\n",
    "\n",
    "    for x in range( i , 0 , -1 ) :\n",
    "        adjust( heap , x , n )#將此陣列調整為最大堆積模式 見下\n",
    "\n",
    "    i = n - 1     #做完最大堆積後 在二元樹最上方的一定是最大的 在我們把最上方的數跟最後一個數交換之後 就不再去動他 所以這邊要減一\n",
    "                  #這邊比較難理解一點 建議你畫一個二元樹出來 實際跟著程式推演一次就會比較清楚\n",
    "\n",
    "        \n",
    "    for y in range( i , 0 , -1 ) :\n",
    "        temp = heap[1]             #把最大的節點跟最後一個節點做交換\n",
    "        heap[1] = heap[y+1]\n",
    "        heap[y+1] = temp\n",
    "\n",
    "        adjust(heap,1,y)           #最大的節點存在最後一個節點之後，不能動他，所以從總node數減一的值再做MAX HEAP\n"
   ]
  },
  {
   "cell_type": "code",
   "execution_count": 9,
   "metadata": {},
   "outputs": [],
   "source": [
    "def adjust( heap , root , n ) :\n",
    "    tmp = heap[root]#先把選定的父節點的值記錄起來\n",
    "    child = 2 * root#子節點的索引值\n",
    "\n",
    "    while child <= n :\n",
    "        if child < n and heap[child] < heap[child+1] :#比較左節點跟右節點\n",
    "            child = child + 1                         #選出比較大的節點\n",
    "        if tmp > heap[child] :                        #如果最大的子節點小於父節點 直接跳出while迴圈\n",
    "            break\n",
    "        else :\n",
    "            heap[math.floor( child/2 )] = heap[child] #不然就把子節點的值丟給父節點\n",
    "            child = child * 2                         #檢查是否還有子節點 若沒有就跳出迴圈\n",
    "\n",
    "    heap[math.floor( child/2 )] = tmp                 #把先前保存的父節點值丟給子節點 完成父節點與子節點的交換"
   ]
  },
  {
   "cell_type": "code",
   "execution_count": 10,
   "metadata": {},
   "outputs": [
    {
     "data": {
      "text/plain": [
       "[1, 2, 5, 6, 8]"
      ]
     },
     "execution_count": 10,
     "metadata": {},
     "output_type": "execute_result"
    }
   ],
   "source": [
    "heapsort( heap , n )\n",
    "\n",
    "del heap[0] #刪掉一開始加的零\n",
    "\n",
    "heap"
   ]
  },
  {
   "cell_type": "code",
   "execution_count": 11,
   "metadata": {},
   "outputs": [],
   "source": []
  },
  {
   "cell_type": "code",
   "execution_count": null,
   "metadata": {},
   "outputs": [],
   "source": []
  }
 ],
 "metadata": {
  "kernelspec": {
   "display_name": "Python 3",
   "language": "python",
   "name": "python3"
  },
  "language_info": {
   "codemirror_mode": {
    "name": "ipython",
    "version": 3
   },
   "file_extension": ".py",
   "mimetype": "text/x-python",
   "name": "python",
   "nbconvert_exporter": "python",
   "pygments_lexer": "ipython3",
   "version": "3.7.0"
  }
 },
 "nbformat": 4,
 "nbformat_minor": 2
}
