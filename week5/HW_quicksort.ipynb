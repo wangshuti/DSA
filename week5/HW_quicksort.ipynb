{
 "cells": [
  {
   "cell_type": "markdown",
   "metadata": {},
   "source": [
    "# HW1 Quick Sort"
   ]
  },
  {
   "cell_type": "markdown",
   "metadata": {},
   "source": [
    "我的想法：quick_sort的过程是与pivot做对比，比pivot小的放前面，大的放后面。       \n",
    "而因为我觉得在list本身里面做顺序转换较为负责且容易弄混，所以我采取的方法是新建三个list        \n",
    "分别放入比pivot小的，比pivot大的及pivot本身。      \n",
    "第一轮过后会有三个list:small,big,keylist。以list[23,5,46,34,14,45,34,27,89]为例，第一轮过后，small=[5,14],big=[46,34,45,34,27,89],keylist=[23],        \n",
    "而第二轮是用上方定义好的quicksort来处理small和big。        \n",
    "在这个例子中，small处理时没有变化，而在big中，比46小的则放入small，比46大的留在big，而46放入keylist。以此类推来进行quick_sort的作业。       "
   ]
  },
  {
   "cell_type": "markdown",
   "metadata": {},
   "source": [
    "[參考資料](http://jialin128.pixnet.net/blog/post/142927691-%5B-資料結構-%5D-快速排序法%EF%BC%88quick-sort%EF%BC%89in-python)"
   ]
  },
  {
   "cell_type": "code",
   "execution_count": 12,
   "metadata": {},
   "outputs": [],
   "source": [
    "def quicksort(list):\n",
    "    if len(list) <= 1:\n",
    "        return list #當list只有一個或沒有元素，就不需要進行sort的環節\n",
    "    \n",
    "    pivot = list[0]  #基準點\n",
    "    left = []\n",
    "    right = []\n",
    "    pivot_list = []\n",
    "    \n",
    "    for a in list:  \n",
    "        if a < pivot:\n",
    "            left.append(a)\n",
    "        elif a == pivot:\n",
    "            pivot_list.append(a)\n",
    "        else:\n",
    "            right.append(a)\n",
    "            \n",
    "    return quicksort(left) + pivot_list + quicksort(right)\n"
   ]
  },
  {
   "cell_type": "markdown",
   "metadata": {},
   "source": [
    "## 驗證過程"
   ]
  },
  {
   "cell_type": "code",
   "execution_count": 13,
   "metadata": {},
   "outputs": [],
   "source": [
    "mylist = [23,5,46,34,14,45,34,27,89]"
   ]
  },
  {
   "cell_type": "code",
   "execution_count": 14,
   "metadata": {},
   "outputs": [
    {
     "data": {
      "text/plain": [
       "[5, 14, 23, 27, 34, 34, 45, 46, 89]"
      ]
     },
     "execution_count": 14,
     "metadata": {},
     "output_type": "execute_result"
    }
   ],
   "source": [
    "quicksort(mylist)"
   ]
  },
  {
   "cell_type": "code",
   "execution_count": null,
   "metadata": {},
   "outputs": [],
   "source": []
  }
 ],
 "metadata": {
  "kernelspec": {
   "display_name": "Python 3",
   "language": "python",
   "name": "python3"
  },
  "language_info": {
   "codemirror_mode": {
    "name": "ipython",
    "version": 3
   },
   "file_extension": ".py",
   "mimetype": "text/x-python",
   "name": "python",
   "nbconvert_exporter": "python",
   "pygments_lexer": "ipython3",
   "version": "3.7.0"
  }
 },
 "nbformat": 4,
 "nbformat_minor": 2
}
